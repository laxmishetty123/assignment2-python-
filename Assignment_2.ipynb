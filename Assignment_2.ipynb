{
  "cells": [
    {
      "cell_type": "code",
      "source": [
        "ASSIGNMENT2\n",
        "WORK ON W+,R+,A+"
      ],
      "metadata": {
        "id": "ul9cNKp0GlJj"
      },
      "execution_count": null,
      "outputs": []
    },
    {
      "cell_type": "code",
      "source": [
        "# Assume that we have a text in \"sample.txt\" with the following text\n",
        "       welcome to csestack.org\n",
        "       we are learning File handling in Python"
      ],
      "metadata": {
        "id": "1_15a6KngQ-o"
      },
      "execution_count": null,
      "outputs": []
    },
    {
      "cell_type": "markdown",
      "source": [
        "1.READING FILE IN 'r+' MODE"
      ],
      "metadata": {
        "id": "V_MQw4PcGuUY"
      }
    },
    {
      "cell_type": "code",
      "source": [
        "with open('sample.txt','r+') as fd:\n",
        "    print(fd.read())"
      ],
      "metadata": {
        "colab": {
          "base_uri": "https://localhost:8080/"
        },
        "id": "8fg5XenmEJTz",
        "outputId": "f3fcf668-d2eb-4777-addd-1624f92f055a"
      },
      "execution_count": 1,
      "outputs": [
        {
          "output_type": "stream",
          "name": "stdout",
          "text": [
            " welcome to csestack.org\n",
            "we are learning File handling in Python\n"
          ]
        }
      ]
    },
    {
      "cell_type": "markdown",
      "source": [
        "2.READING FILE IN 'w+' MODE"
      ],
      "metadata": {
        "id": "AnplO811G2Uq"
      }
    },
    {
      "cell_type": "code",
      "source": [
        "with open('sample.txt','w+') as fd:\n",
        "    print(fd.read())"
      ],
      "metadata": {
        "colab": {
          "base_uri": "https://localhost:8080/"
        },
        "id": "G_sgmcZrEdlc",
        "outputId": "bd53a0bd-e59b-4dc1-b4bc-8595ccf70e87"
      },
      "execution_count": 4,
      "outputs": [
        {
          "output_type": "stream",
          "name": "stdout",
          "text": [
            "\n"
          ]
        }
      ]
    },
    {
      "cell_type": "markdown",
      "source": [
        "3.WRITE FILE IN 'r+' MODE"
      ],
      "metadata": {
        "id": "w4D1h1NsG-nJ"
      }
    },
    {
      "cell_type": "code",
      "source": [
        "with open('sample.txt','r+') as fd:\n",
        "    fd.write(\"New text.\")"
      ],
      "metadata": {
        "id": "LtOo_fFRE3M2"
      },
      "execution_count": 6,
      "outputs": []
    },
    {
      "cell_type": "markdown",
      "source": [
        "4.WRITE FILE IN 'r+' MODE"
      ],
      "metadata": {
        "id": "yesQSK-rHFEY"
      }
    },
    {
      "cell_type": "code",
      "source": [
        "with open('sample.txt','w+') as fd:\n",
        "    fd.write(\"New text.\")"
      ],
      "metadata": {
        "id": "nGaO7BR_FPPE"
      },
      "execution_count": 13,
      "outputs": []
    },
    {
      "cell_type": "markdown",
      "source": [
        "5.OPENING FILE IN 'r+' MODE WHEN IT IS NOT EXIST"
      ],
      "metadata": {
        "id": "thxKQyZoHT1_"
      }
    },
    {
      "cell_type": "code",
      "source": [
        "with open('sample.txt','r+') as fd:\n",
        "    pass"
      ],
      "metadata": {
        "id": "sUoGA86uFzjK"
      },
      "execution_count": 15,
      "outputs": []
    },
    {
      "cell_type": "code",
      "source": [
        "with open('sample,txt','w+') as fd:\n",
        "    pass"
      ],
      "metadata": {
        "id": "C3tquNauHdc5"
      },
      "execution_count": 16,
      "outputs": []
    },
    {
      "cell_type": "markdown",
      "source": [
        " r MODE"
      ],
      "metadata": {
        "id": "vMxw9afgIJ6c"
      }
    },
    {
      "cell_type": "code",
      "source": [
        "with open(\"sample.txt\",\"r\") as f:\n",
        "    content = f.read"
      ],
      "metadata": {
        "id": "QTfdy0iYILhl"
      },
      "execution_count": 17,
      "outputs": []
    },
    {
      "cell_type": "markdown",
      "source": [
        "r+ MODE"
      ],
      "metadata": {
        "id": "0MZUD1qGIJk4"
      }
    },
    {
      "cell_type": "code",
      "source": [
        "with open(\"sample.txt\",\"r+\") as f:\n",
        "    content = f.read()\n",
        "    f.write(\"New content\")"
      ],
      "metadata": {
        "id": "TMENkVrgIdWs"
      },
      "execution_count": 18,
      "outputs": []
    },
    {
      "cell_type": "markdown",
      "source": [
        "w MODE"
      ],
      "metadata": {
        "id": "nZrPTW-4Iv5K"
      }
    },
    {
      "cell_type": "code",
      "source": [
        "with open(\"sample.txt\",\"w\") as f:\n",
        "    f.write(\"New content\")"
      ],
      "metadata": {
        "id": "6RnCtoqoIuxm"
      },
      "execution_count": null,
      "outputs": []
    },
    {
      "cell_type": "markdown",
      "source": [
        "w+ MODE"
      ],
      "metadata": {
        "id": "0zcUM_igJDg5"
      }
    },
    {
      "cell_type": "code",
      "source": [
        "with open(\"sample.txt\",\"w+\") as f:\n",
        "     f.write(\"New content\")\n",
        "     f.seek(0)\n",
        "     content = f.read()"
      ],
      "metadata": {
        "id": "2jDULHTkJFpb"
      },
      "execution_count": 19,
      "outputs": []
    },
    {
      "cell_type": "markdown",
      "source": [
        "a MODE"
      ],
      "metadata": {
        "id": "QKVIQl3zJg1V"
      }
    },
    {
      "cell_type": "code",
      "source": [
        "with open(\"sample.txt\",\"a\") as f:\n",
        "  f.write(\"Appended content\")"
      ],
      "metadata": {
        "id": "Uo3yM-rFJjFF"
      },
      "execution_count": null,
      "outputs": []
    },
    {
      "cell_type": "markdown",
      "source": [
        "a+ MODE"
      ],
      "metadata": {
        "id": "LZJrPhOdJ3ql"
      }
    },
    {
      "cell_type": "code",
      "source": [
        "with open(\"sample.txt\",\"a+\") as f:\n",
        "    f.write(\"Appended content\")\n",
        "    f.seek(0)\n",
        "    content = f.read"
      ],
      "metadata": {
        "id": "H_eNX2_qJ6Ez"
      },
      "execution_count": 20,
      "outputs": []
    }
  ],
  "metadata": {
    "colab": {
      "provenance": []
    },
    "kernelspec": {
      "display_name": "Python 3",
      "name": "python3"
    },
    "language_info": {
      "name": "python"
    }
  },
  "nbformat": 4,
  "nbformat_minor": 0
}